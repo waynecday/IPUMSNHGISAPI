{
  "nbformat": 4,
  "nbformat_minor": 0,
  "metadata": {
    "colab": {
      "name": "NHGIS_2_getdata_2020-07-29.ipynb",
      "provenance": [],
      "collapsed_sections": [],
      "include_colab_link": true
    },
    "kernelspec": {
      "display_name": "Python 3",
      "language": "python",
      "name": "python3"
    },
    "language_info": {
      "codemirror_mode": {
        "name": "ipython",
        "version": 3
      },
      "file_extension": ".py",
      "mimetype": "text/x-python",
      "name": "python",
      "nbconvert_exporter": "python",
      "pygments_lexer": "ipython3",
      "version": "3.7.8"
    }
  },
  "cells": [
    {
      "cell_type": "markdown",
      "metadata": {
        "id": "view-in-github",
        "colab_type": "text"
      },
      "source": [
        "<a href=\"https://colab.research.google.com/github/waynecday/IPUMSNHGISAPI/blob/master/NHGIS_2_getdata_2020_07_29.ipynb\" target=\"_parent\"><img src=\"https://colab.research.google.com/assets/colab-badge.svg\" alt=\"Open In Colab\"/></a>"
      ]
    },
    {
      "cell_type": "markdown",
      "metadata": {
        "colab_type": "text",
        "id": "pb73n9B2GT4A"
      },
      "source": [
        "# IPUMS NHGIS API dataset extract request\n",
        "\n",
        "This notebook adapts code provided by IPUMS and requests relevent data and shapefiles.\n",
        "\n",
        "**See the IPUMS dataset extract API example here**:\n",
        "\n",
        "https://developer.ipums.org/docs/workflows/create_extracts/nhgis_data/\n",
        "\n",
        "This notebook requires that datasets, tables, variables of interest and other necessary paramaters are already determined. This information was captured in the prior notebook IKERST_1av1_nhgismetadata_YYYY-MM-DD.ipynb\n",
        "\n",
        "**Data required**\n",
        "\n",
        "Dataset(s): 2009 American Community Survey (ACS) 5-year estimates \n",
        "\n",
        "Geographic units: Block group and county level\n",
        "\n",
        "Geographic extent: Galveston County, Texas\n",
        "\n",
        "Fields of interest: Total population; total households; population by race and ethnicity; median household income\n",
        "\n",
        "Shapefiles: block group and county geographies"
      ]
    },
    {
      "cell_type": "markdown",
      "metadata": {
        "colab_type": "text",
        "id": "QQLo6aCJrsfL"
      },
      "source": [
        "# Preliminary Operations\n",
        "\n",
        "#### 1. Install and import packages\n",
        "#### 2. Mount Google Drive\n",
        "#### 3. Set working directory"
      ]
    },
    {
      "cell_type": "markdown",
      "metadata": {
        "colab_type": "text",
        "id": "5gx1pyI8OU4Q"
      },
      "source": [
        "## 1.Install and import packages"
      ]
    },
    {
      "cell_type": "code",
      "metadata": {
        "colab_type": "code",
        "id": "-BZ7mtWdsffu",
        "colab": {
          "base_uri": "https://localhost:8080/",
          "height": 255
        },
        "outputId": "a248c3f2-2bd4-47c2-cc4d-6c3fcee1bc06"
      },
      "source": [
        "# Install packages not included in Google Colab by default\n",
        "!pip install geopandas \n",
        "\n",
        "# Import packages\n",
        "import os # for changing and creating directories\n",
        "import requests # for getting data from the NHGIS API\n",
        "import json # for building the NHGIS API request\n",
        "from pprint import pprint # for checking the NHGIS API request operations\n",
        "import sys  # for checking version of python for replication\n",
        "import pandas as pd # for reading, writing and wrangling data\n",
        "import geopandas as gpd # for creating maps and generally working with geospatial data\n",
        "import folium as fm # folium has more dynamic maps - but requires internet connection"
      ],
      "execution_count": null,
      "outputs": [
        {
          "output_type": "stream",
          "text": [
            "Requirement already satisfied: geopandas in /usr/local/lib/python3.6/dist-packages (0.8.1)\n",
            "Requirement already satisfied: shapely in /usr/local/lib/python3.6/dist-packages (from geopandas) (1.7.0)\n",
            "Requirement already satisfied: pandas>=0.23.0 in /usr/local/lib/python3.6/dist-packages (from geopandas) (1.0.5)\n",
            "Requirement already satisfied: pyproj>=2.2.0 in /usr/local/lib/python3.6/dist-packages (from geopandas) (2.6.1.post1)\n",
            "Requirement already satisfied: fiona in /usr/local/lib/python3.6/dist-packages (from geopandas) (1.8.13.post1)\n",
            "Requirement already satisfied: python-dateutil>=2.6.1 in /usr/local/lib/python3.6/dist-packages (from pandas>=0.23.0->geopandas) (2.8.1)\n",
            "Requirement already satisfied: pytz>=2017.2 in /usr/local/lib/python3.6/dist-packages (from pandas>=0.23.0->geopandas) (2018.9)\n",
            "Requirement already satisfied: numpy>=1.13.3 in /usr/local/lib/python3.6/dist-packages (from pandas>=0.23.0->geopandas) (1.18.5)\n",
            "Requirement already satisfied: six>=1.7 in /usr/local/lib/python3.6/dist-packages (from fiona->geopandas) (1.15.0)\n",
            "Requirement already satisfied: cligj>=0.5 in /usr/local/lib/python3.6/dist-packages (from fiona->geopandas) (0.5.0)\n",
            "Requirement already satisfied: click<8,>=4.0 in /usr/local/lib/python3.6/dist-packages (from fiona->geopandas) (7.1.2)\n",
            "Requirement already satisfied: munch in /usr/local/lib/python3.6/dist-packages (from fiona->geopandas) (2.5.0)\n",
            "Requirement already satisfied: click-plugins>=1.0 in /usr/local/lib/python3.6/dist-packages (from fiona->geopandas) (1.1.1)\n",
            "Requirement already satisfied: attrs>=17 in /usr/local/lib/python3.6/dist-packages (from fiona->geopandas) (19.3.0)\n"
          ],
          "name": "stdout"
        }
      ]
    },
    {
      "cell_type": "code",
      "metadata": {
        "colab_type": "code",
        "id": "RTiY_lAvslBn",
        "colab": {
          "base_uri": "https://localhost:8080/",
          "height": 136
        },
        "outputId": "d16f82ca-d748-4ee6-97cb-f1ea5ba6a48b"
      },
      "source": [
        "# Display versions being used - important information for replication\n",
        "\n",
        "print(\"Python Version     \", sys.version)\n",
        "print(\"pandas version:    \", pd.__version__)\n",
        "print(\"geopandas version: \", gpd.__version__)\n",
        "print(\"folium version:    \", fm.__version__)\n",
        "print(\"requests version:  \", requests.__version__)\n",
        "print(\"json version:      \", json.__version__)"
      ],
      "execution_count": null,
      "outputs": [
        {
          "output_type": "stream",
          "text": [
            "Python Version      3.6.9 (default, Apr 18 2020, 01:56:04) \n",
            "[GCC 8.4.0]\n",
            "pandas version:     1.0.5\n",
            "geopandas version:  0.8.1\n",
            "folium version:     0.8.3\n",
            "requests version:   2.23.0\n",
            "json version:       2.0.9\n"
          ],
          "name": "stdout"
        }
      ]
    },
    {
      "cell_type": "markdown",
      "metadata": {
        "colab_type": "text",
        "id": "vX9nhpvpObV-"
      },
      "source": [
        "## 2.Mount Google Drive\n",
        "\n",
        "*Mounting* Google Drive allows you to read (write) files from (to) a Shared Google Drive or a Personal Google Drive. You will be required to run the following code block and enter an authorization code that will be provided.\n",
        "\n",
        "See Google Colab documentation for further information: \n",
        "https://colab.research.google.com/notebooks/io.ipynb"
      ]
    },
    {
      "cell_type": "code",
      "metadata": {
        "colab_type": "code",
        "id": "OuqSFaRWr4Oa",
        "colab": {}
      },
      "source": [
        "from google.colab import drive\n",
        "drive.mount(\"/content/drive\", force_remount=True)"
      ],
      "execution_count": null,
      "outputs": []
    },
    {
      "cell_type": "markdown",
      "metadata": {
        "colab_type": "text",
        "id": "DboK7-L0Ohq-"
      },
      "source": [
        "## 3.Set working directory\n",
        "\n",
        "The working directory will be created at the same level as this notebook with the same name as the notebook but without the .ipynb file suffix.\n",
        "\n",
        "Mounting Google Drive is a prerequisite to running the following code blocks. This allows you to generate a working folder and write files to the working folder. \n",
        "\n",
        "\n",
        "Manually set the root_path folder to the location where this notebook resides in Google Drive. Then manually set programname to the same name as this notebook. Both root_path and programname are needed to generate the working directory folder."
      ]
    },
    {
      "cell_type": "code",
      "metadata": {
        "colab_type": "code",
        "id": "B9di1YuBr8cc",
        "colab": {
          "base_uri": "https://localhost:8080/",
          "height": 51
        },
        "outputId": "70655255-22cd-4e6f-be01-5ce31923cb1a"
      },
      "source": [
        "## manually set root_path and programname\n",
        "\n",
        "root_path = '/content/drive/My Drive/Sandbox'\n",
        "programname = \"NHGIS_2_getdata_2020-07-29\"\n",
        "\n",
        "root_path_programname = root_path + \"/\" + programname\n",
        "print(\"root_path:            \", root_path)\n",
        "print(\"root_path_programname:\", root_path_programname)"
      ],
      "execution_count": null,
      "outputs": [
        {
          "output_type": "stream",
          "text": [
            "root_path:             /content/drive/My Drive/Sandbox\n",
            "root_path_programname: /content/drive/My Drive/Sandbox/NHGIS_2_getdata_2020-07-29\n"
          ],
          "name": "stdout"
        }
      ]
    },
    {
      "cell_type": "code",
      "metadata": {
        "colab_type": "code",
        "id": "LecLZcTSsc4y",
        "colab": {
          "base_uri": "https://localhost:8080/",
          "height": 68
        },
        "outputId": "fc9116b8-19ec-4d0d-df05-ce6a95cd724c"
      },
      "source": [
        "# change the working directory to root_path\n",
        "os.chdir(root_path)\n",
        "retval = os.getcwd()\n",
        "print(\"Working directory set to: \", retval)\n",
        "\n",
        "# Make directory to save output\n",
        "if not os.path.exists(programname):\n",
        "    os.mkdir(programname)\n",
        "print(\"***programname folder created in root_folder***\")\n",
        "\n",
        "os.chdir(root_path_programname)\n",
        "retval = os.getcwd()\n",
        "print(\"Working directory set to: \", retval)"
      ],
      "execution_count": null,
      "outputs": [
        {
          "output_type": "stream",
          "text": [
            "Working directory set to:  /content/drive/My Drive/Sandbox\n",
            "***programname folder created in root_folder***\n",
            "Working directory set to:  /content/drive/My Drive/Sandbox/NHGIS_2_getdata_2020-07-29\n"
          ],
          "name": "stdout"
        }
      ]
    },
    {
      "cell_type": "markdown",
      "metadata": {
        "colab_type": "text",
        "id": "STWTsqDestYm"
      },
      "source": [
        "# NHGIS API dataset extract request\n",
        "\n",
        "The following steps are required to submit a data extract reqeuest, retreive and download the data, and unzip the files in the working directory.\n",
        "\n",
        "#### 1. Set API key\n",
        "#### 2. Submit extract request\n",
        "#### 3. Obtain historical extract numbers\n",
        "> 3a. Saved extract number, or\n",
        "\n",
        "> 3b. Enter NHGIS extract number into URL getRequest\n",
        "#### 4. Monitor extract request progress\n",
        "#### 5. Download zipped data files using request URLs\n",
        "#### 6. Unzip the datafiles"
      ]
    },
    {
      "cell_type": "markdown",
      "metadata": {
        "colab_type": "text",
        "id": "FlFYiwHgH29o"
      },
      "source": [
        "## 1.Set API key\n",
        "Set object `my_key` equal to personal and unique NHGIS API key obtained from https://developer.ipums.org/docs/get-started/."
      ]
    },
    {
      "cell_type": "code",
      "metadata": {
        "colab_type": "code",
        "id": "MJWr-xI2s8V5",
        "colab": {}
      },
      "source": [
        "## set my_key to personal API key\n",
        "\n",
        "my_key = \"typekeyhere\"\n",
        "my_headers = {\"Authorization\": my_key}\n",
        "print(\"my_key is now set to:\", my_key)"
      ],
      "execution_count": null,
      "outputs": []
    },
    {
      "cell_type": "markdown",
      "metadata": {
        "colab_type": "text",
        "id": "gdP1bJRgI3hQ"
      },
      "source": [
        "## 2.Submit extract request\n",
        "To submit a data extract request you need to pass a valid JSON-formatted extract request. The names or parameters to use for values in the data extract request can be discovered via the metadata API request found in the **NHGIS_1_getmetadata_YYYY-MM-DD** notebook.\n"
      ]
    },
    {
      "cell_type": "markdown",
      "metadata": {
        "colab_type": "text",
        "id": "l23LQt6HyRyr"
      },
      "source": [
        "DATA EXTRACT REQUEST FIELDS\n",
        "\n",
        "* **datasets**: An object where each key is the **name** of the requested dataset and each value is another object describing your selections for that dataset.\n",
        "  * **data_tables**: (Required) A list of selected data table names.\n",
        "  * **geog_levels**: (Required) A list of selected geographic level names.\n",
        "  * **years**: A list of selected years. To select all years use **[\"*\"]**. Only required when the dataset has multiple years.\n",
        "  * **breakdown_values**: A list of selected breakdown values. Defaults to first breakdown value. If more than one is selected, then specify **breakdown_and_data_type_layout** at the root of the request body.\n",
        "* **time_series_tables**: An object where each key is the **name** of the requested time series table and each value is another object describing your selections for that time series table.\n",
        "  * **geog_levels**: (Required) A list of selected geographic level names.\n",
        "* **shapefiles**: A list of selected shapefiles.\n",
        "* **description**: A short description of your extract.\n",
        "* **data_format**: The requested format of your data. Valid choices are: **csv_no_header**, **csv_header**, and **fixed_width**. **csv_header** adds a second, more descriptive header row. Contrary to the name, **csv_no_header** still provides a minimal header in the first row. Required when any **datasets** or **time_series_tables** are selected.\n",
        "* **breakdown_and_data_type_layout**: The layout of your dataset data when multiple data types or breakdown combos are present. Valid choices are: **separate_files** (split up each data type or breakdown combo into its own file) and **single_file** (keep all datatypes and breakdown combos in one file). Required when a dataset has multiple breakdowns or data types.\n",
        "* **time_series_table_layout**: The layout of your time series table data. Valid choices are: **time_by_column_layout**, **time_by_row_layout**, and **time_by_file_layout**. Required when any time series tables are selected. See the NHGIS documentation for more information.\n",
        "* **geographic_extents**: A list of **geographic_instances** to use as extents for all datasets on this request. To select all extents, use **[\"*\"]**. Only applies to geographic levels where **has_geog_extent_selection** is true. Required when a geographic level on a dataset is specified where **has_geog_extent_selection** is true."
      ]
    },
    {
      "cell_type": "markdown",
      "metadata": {
        "colab_type": "text",
        "id": "gVUD6BoAtB9b"
      },
      "source": [
        "These are the required datasets, shapefiles and associated parameters determined using the metadata API in the  **NHGIS_1_getmetadata_YYYY-MM-DD** notebook. The were copied and pasted below for documentation purposes.\n",
        "\n",
        "\n",
        "```\n",
        "{'description': '5-Year Data [2005-2009, Block Groups & Larger Areas]',\n",
        "  'group': '2009 American Community Survey',\n",
        "  'name': '2005_2009_ACS5a',\n",
        "  'sequence': 4603},\n",
        "\n",
        "'data_tables': [{'description': 'Total Population',\n",
        "                  'name': 'B01003',\n",
        "                  'nhgis_code': 'RK9',\n",
        "                  'sequence': 14},\n",
        "\t\t\t\t{'description': 'Hispanic or Latino Origin by Race',\n",
        "                  'name': 'B03002',\n",
        "                  'nhgis_code': 'RLI',\n",
        "                  'sequence': 23},\n",
        "\t\t\t\t{'description': 'Median Household Income in the Past 12 '\n",
        "                                 'Months (in 2009 Inflation-Adjusted Dollars)',\n",
        "                  'name': 'B19013',\n",
        "                  'nhgis_code': 'RNH',\n",
        "                  'sequence': 94},\t\t\t\t  \n",
        "\t\t\t\t{'description': 'Household Type (Including Living Alone)',\n",
        "                  'name': 'B11001',\n",
        "                  'nhgis_code': 'RL4',\n",
        "                  'sequence': 45}]\n",
        "\n",
        "'geog_levels': [{'description': 'State--County',\n",
        "                  'has_geog_extent_selection': False,\n",
        "                  'name': 'county',\n",
        "                  'sequence': 25},\n",
        "\t\t\t\t{'description': 'State--County--Census Tract--Block Group',\n",
        "                  'has_geog_extent_selection': True,\n",
        "                  'name': 'blck_grp',\n",
        "                  'sequence': 83}]\n",
        "\n",
        "'geographic_instances': [{'description': 'Texas', 'name': '480'}]\n",
        "'breakdown_values': [{'description': 'Total area', 'name': 'bs32.ge00'}]\n",
        "```\n",
        "\n",
        "These are the required 2009 TIGER/Line + shapefiles. \n",
        "\n",
        "```\n",
        "\"480_blck_grp_2000_tl2009\" \"us_county_2009_tl2009\"\n",
        "```\n",
        "Note: While IPUMS NHGIS has various **time series** datasets available, we will not be requesting any time series datasets. As a consequence, any related time series code is not shown. \n",
        "\n",
        "Please see the IPUMS NHGIS documentation constructing a [time series metadata request](https://developer.ipums.org/docs/workflows/explore_metadata/nhgis/time_series/) or a [time series data request](https://developer.ipums.org/docs/workflows/create_extracts/nhgis_data/). \n",
        "\n"
      ]
    },
    {
      "cell_type": "markdown",
      "metadata": {
        "colab_type": "text",
        "id": "bbc5jP59juBK"
      },
      "source": [
        "### Manually formated extract request\n",
        "\n",
        "The request is JSON formatted manually. \n",
        "\n",
        "A successful request will return a response that includes an extract number in the `my_extract_number` attribute."
      ]
    },
    {
      "cell_type": "code",
      "metadata": {
        "colab_type": "code",
        "id": "-NZKvvijHI3K",
        "colab": {
          "base_uri": "https://localhost:8080/",
          "height": 34
        },
        "outputId": "d62dacf3-1560-4d7a-b224-fc6e8f2b3876"
      },
      "source": [
        "# manually formated extract request\n",
        "\n",
        "my_headers = {\"Authorization\": my_key}\n",
        "url = \"https://api.ipums.org/extracts/?product=nhgis&version=v1\"\n",
        "er = \"\"\"\n",
        "\n",
        "{\n",
        "  \"datasets\": {\n",
        "    \"2005_2009_ACS5a\": {\n",
        "      \"years\": [],\n",
        "      \"breakdown_values\": [],\n",
        "      \"data_tables\": [\n",
        "        \"B01003\", \"B03002\", \"B19013\", \"B11001\"\n",
        "      ],\n",
        "      \"geog_levels\": [\n",
        "        \"blck_grp\", \"county\"\n",
        "      ]\n",
        "    }\n",
        "  },\n",
        "  \"shapefiles\": [\n",
        "    \"480_blck_grp_2000_tl2009\", \"us_county_2009_tl2009\"\n",
        "  ],\n",
        "  \"geographic_extents\": [\"480\"],\n",
        "  \"data_format\": \"csv_no_header\",\n",
        "  \"description\": \"By blockgroup for Texas: Population counts, households counts, ethnicity by race counts, median household income\",\n",
        "  \"breakdown_and_data_type_layout\": \"single_file\"\n",
        "}\n",
        "\n",
        "\"\"\"\n",
        "result = requests.post(url, headers=my_headers, json=json.loads(er))\n",
        "my_extract_number = result.json()[\"number\"]\n",
        "print(\"my_extract_number:\", my_extract_number)"
      ],
      "execution_count": null,
      "outputs": [
        {
          "output_type": "stream",
          "text": [
            "my_extract_number: 21\n"
          ],
          "name": "stdout"
        }
      ]
    },
    {
      "cell_type": "markdown",
      "metadata": {
        "colab_type": "text",
        "id": "kS3wR19_JbSq"
      },
      "source": [
        "## 3.Obtain historical extract numbers\n",
        "\n",
        "You may also find it useful to get a historical listing of your extract requests. For example, if you have already submitted the data request but have foregotten the extract number. \n",
        "\n",
        "If you omit an extract number in your API call, by default this will return the 10 most recent extract requests. To adjust the amount returned, you may optionally specify a **?limit=##** parameter to get the ## most recent extracts instead."
      ]
    },
    {
      "cell_type": "code",
      "metadata": {
        "colab_type": "code",
        "id": "vwtHyYMftRt2",
        "colab": {
          "base_uri": "https://localhost:8080/",
          "height": 1000
        },
        "outputId": "f99cc3aa-4582-4f3a-ec37-45455ce099e8"
      },
      "source": [
        "### Recent Extracts Request\n",
        "\n",
        "r1 = requests.get(\n",
        "    \"https://api.ipums.org/extracts?product=nhgis&version=v1\",\n",
        "    headers=my_headers\n",
        ")\n",
        "\n",
        "pprint(r1.json())"
      ],
      "execution_count": null,
      "outputs": [
        {
          "output_type": "stream",
          "text": [
            "[{'breakdown_and_data_type_layout': 'single_file',\n",
            "  'data_format': 'csv_header',\n",
            "  'datasets': {'2005_2009_ACS5a': {'breakdown_values': ['bs32.ge00'],\n",
            "                                   'data_tables': ['B01003',\n",
            "                                                   'B03002',\n",
            "                                                   'B11001',\n",
            "                                                   'B19013'],\n",
            "                                   'geog_levels': ['blck_grp', 'county']}},\n",
            "  'description': 'By blockgroup for Texas: Population counts, households '\n",
            "                 'counts, ethnicity by race counts, median household income',\n",
            "  'geographic_extents': ['480'],\n",
            "  'number': 21,\n",
            "  'shapefiles': ['480_blck_grp_2000_tl2009', 'us_county_2009_tl2009'],\n",
            "  'status': 'started'},\n",
            " {'breakdown_and_data_type_layout': 'single_file',\n",
            "  'data_format': 'csv_header',\n",
            "  'datasets': {'2005_2009_ACS5a': {'breakdown_values': ['bs32.ge00'],\n",
            "                                   'data_tables': ['B01003',\n",
            "                                                   'B03002',\n",
            "                                                   'B11001',\n",
            "                                                   'B19013'],\n",
            "                                   'geog_levels': ['blck_grp', 'county']}},\n",
            "  'description': 'Revised: By blockgroup for Texas: Population counts, '\n",
            "                 'households counts, ethnicity by race counts, median '\n",
            "                 'household income',\n",
            "  'geographic_extents': ['480'],\n",
            "  'number': 20,\n",
            "  'shapefiles': ['480_blck_grp_2000_tl2009', 'us_county_2009_tl2009'],\n",
            "  'status': 'completed'},\n",
            " {'breakdown_and_data_type_layout': 'single_file',\n",
            "  'data_format': 'csv_header',\n",
            "  'datasets': {'2005_2009_ACS5a': {'breakdown_values': ['bs32.ge00'],\n",
            "                                   'data_tables': ['B01003',\n",
            "                                                   'B03002',\n",
            "                                                   'B11001',\n",
            "                                                   'B19013'],\n",
            "                                   'geog_levels': ['blck_grp', 'county']}},\n",
            "  'description': 'Revised: By blockgroup for Texas: Population counts, '\n",
            "                 'households counts, ethnicity by race counts, median '\n",
            "                 'household income',\n",
            "  'geographic_extents': ['480'],\n",
            "  'number': 19,\n",
            "  'shapefiles': ['480_blck_grp_2000_tl2009', 'us_county_2009_tl2009'],\n",
            "  'status': 'completed'},\n",
            " {'breakdown_and_data_type_layout': 'single_file',\n",
            "  'data_format': 'csv_header',\n",
            "  'datasets': {'2005_2009_ACS5a': {'breakdown_values': ['bs32.ge00'],\n",
            "                                   'data_tables': ['B01003',\n",
            "                                                   'B03002',\n",
            "                                                   'B11001',\n",
            "                                                   'B19013'],\n",
            "                                   'geog_levels': ['blck_grp', 'county']}},\n",
            "  'description': 'Revised: By blockgroup for Texas: Population counts, '\n",
            "                 'households counts, ethnicity by race counts, median '\n",
            "                 'household income',\n",
            "  'geographic_extents': ['480'],\n",
            "  'number': 18,\n",
            "  'shapefiles': ['480_blck_grp_2000_tl2009', 'us_county_2009_tl2009'],\n",
            "  'status': 'completed'},\n",
            " {'breakdown_and_data_type_layout': 'single_file',\n",
            "  'data_format': 'csv_header',\n",
            "  'datasets': {'2005_2009_ACS5a': {'breakdown_values': ['bs32.ge00'],\n",
            "                                   'data_tables': ['B01003',\n",
            "                                                   'B03002',\n",
            "                                                   'B11001',\n",
            "                                                   'B19013'],\n",
            "                                   'geog_levels': ['blck_grp', 'county']}},\n",
            "  'description': 'Revised: By blockgroup for Texas: Population counts, '\n",
            "                 'households counts, ethnicity by race counts, median '\n",
            "                 'household income',\n",
            "  'geographic_extents': ['480'],\n",
            "  'number': 17,\n",
            "  'shapefiles': ['480_blck_grp_2000_tl2009', 'us_county_2009_tl2009'],\n",
            "  'status': 'completed'},\n",
            " {'breakdown_and_data_type_layout': 'single_file',\n",
            "  'data_format': 'csv_header',\n",
            "  'datasets': {'2005_2009_ACS5a': {'breakdown_values': ['bs32.ge00'],\n",
            "                                   'data_tables': ['B01003'],\n",
            "                                   'geog_levels': ['blck_grp', 'county']}},\n",
            "  'description': 'By blockgroup for Texas: Population counts, households '\n",
            "                 'counts, ethnicity by race counts, median household income',\n",
            "  'geographic_extents': ['480'],\n",
            "  'number': 16,\n",
            "  'shapefiles': ['480_blck_grp_2000_tl2009', 'us_county_2009_tl2009'],\n",
            "  'status': 'completed',\n",
            "  'time_series_table_layout': 'time_by_file_layout',\n",
            "  'time_series_tables': {'A00': {'geog_levels': ['state']}}},\n",
            " {'data_format': 'csv_header',\n",
            "  'datasets': {'2000_SF1b': {'data_tables': ['NP001A'],\n",
            "                             'geog_levels': ['blck_grp']}},\n",
            "  'description': 'test9:07',\n",
            "  'geographic_extents': ['010'],\n",
            "  'number': 15,\n",
            "  'shapefiles': ['us_state_1790_tl2000'],\n",
            "  'status': 'completed'},\n",
            " {'breakdown_and_data_type_layout': 'single_file',\n",
            "  'data_format': 'csv_header',\n",
            "  'datasets': {'1988_1997_CBPa': {'breakdown_values': ['bs30.si0762',\n",
            "                                                       'bs30.si2026'],\n",
            "                                  'data_tables': ['NT001'],\n",
            "                                  'geog_levels': ['county'],\n",
            "                                  'years': ['1988',\n",
            "                                            '1989',\n",
            "                                            '1990',\n",
            "                                            '1991',\n",
            "                                            '1992',\n",
            "                                            '1993',\n",
            "                                            '1994']},\n",
            "               '2000_SF1b': {'data_tables': ['NP001A'],\n",
            "                             'geog_levels': ['blck_grp']}},\n",
            "  'description': 'sample6',\n",
            "  'geographic_extents': ['010'],\n",
            "  'number': 14,\n",
            "  'shapefiles': ['us_state_1790_tl2000'],\n",
            "  'status': 'completed',\n",
            "  'time_series_table_layout': 'time_by_file_layout',\n",
            "  'time_series_tables': {'A00': {'geog_levels': ['state']}}},\n",
            " {'breakdown_and_data_type_layout': 'single_file',\n",
            "  'data_format': 'csv_header',\n",
            "  'datasets': {'1988_1997_CBPa': {'breakdown_values': ['bs30.si0762',\n",
            "                                                       'bs30.si2026'],\n",
            "                                  'data_tables': ['NT001'],\n",
            "                                  'geog_levels': ['county'],\n",
            "                                  'years': ['1988',\n",
            "                                            '1989',\n",
            "                                            '1990',\n",
            "                                            '1991',\n",
            "                                            '1992',\n",
            "                                            '1993',\n",
            "                                            '1994']},\n",
            "               '2000_SF1b': {'data_tables': ['NP001A'],\n",
            "                             'geog_levels': ['blck_grp']}},\n",
            "  'description': 'sample6',\n",
            "  'geographic_extents': ['010'],\n",
            "  'number': 13,\n",
            "  'shapefiles': ['us_state_1790_tl2000'],\n",
            "  'status': 'completed',\n",
            "  'time_series_table_layout': 'time_by_file_layout',\n",
            "  'time_series_tables': {'A00': {'geog_levels': ['state']}}},\n",
            " {'breakdown_and_data_type_layout': 'single_file',\n",
            "  'data_format': 'csv_header',\n",
            "  'datasets': {'1988_1997_CBPa': {'breakdown_values': ['bs30.si0762',\n",
            "                                                       'bs30.si2026'],\n",
            "                                  'data_tables': ['NT001'],\n",
            "                                  'geog_levels': ['county'],\n",
            "                                  'years': ['1988',\n",
            "                                            '1989',\n",
            "                                            '1990',\n",
            "                                            '1991',\n",
            "                                            '1992',\n",
            "                                            '1993',\n",
            "                                            '1994']},\n",
            "               '2000_SF1b': {'data_tables': ['NP001A'],\n",
            "                             'geog_levels': ['blck_grp']}},\n",
            "  'description': 'sample6',\n",
            "  'geographic_extents': ['010'],\n",
            "  'number': 12,\n",
            "  'shapefiles': ['us_state_1790_tl2000'],\n",
            "  'status': 'completed',\n",
            "  'time_series_table_layout': 'time_by_file_layout',\n",
            "  'time_series_tables': {'A00': {'geog_levels': ['state']}}}]\n"
          ],
          "name": "stdout"
        }
      ]
    },
    {
      "cell_type": "markdown",
      "metadata": {
        "colab_type": "text",
        "id": "OcxjFRSIGrSb"
      },
      "source": [
        "## 4.Extract request progress\n",
        "\n",
        "After submitting your extract request (as completed in section **2.Submit extract request**), you can use the extract number to retrieve the request’s status. \n",
        "\n",
        "Manually add the extract number to the URL. For example, the URL for extract number 56 would be:\n",
        " \n",
        "https://api.ipums.org/extracts/56?product=nhgis&version=v1\n",
        "\n",
        "Possible status are:\n",
        "* `queued`\n",
        "* `started`\n",
        "* `produced`\n",
        "* `canceled`\n",
        "* `failed` \n",
        "* `completed`\n",
        "\n",
        "When the `status` attribute is `completed`, the files will be ready for download.\n",
        "\n",
        "Rerun this block of code until `status` is `completed`.\n",
        "\n"
      ]
    },
    {
      "cell_type": "code",
      "metadata": {
        "colab_type": "code",
        "id": "ypd_BUVYG4jI",
        "colab": {
          "base_uri": "https://localhost:8080/",
          "height": 306
        },
        "outputId": "17618e5a-a0f0-4271-df65-62937bd841dc"
      },
      "source": [
        "## manually add the extract number to the URL\n",
        "\n",
        "r = requests.get(\n",
        "   \"https://api.ipums.org/extracts/21?product=nhgis&version=v1\",\n",
        "    headers=my_headers\n",
        ")\n",
        "\n",
        "pprint(r.json())"
      ],
      "execution_count": null,
      "outputs": [
        {
          "output_type": "stream",
          "text": [
            "{'breakdown_and_data_type_layout': 'single_file',\n",
            " 'data_format': 'csv_header',\n",
            " 'datasets': {'2005_2009_ACS5a': {'breakdown_values': ['bs32.ge00'],\n",
            "                                  'data_tables': ['B01003',\n",
            "                                                  'B03002',\n",
            "                                                  'B11001',\n",
            "                                                  'B19013'],\n",
            "                                  'geog_levels': ['blck_grp', 'county']}},\n",
            " 'description': 'By blockgroup for Texas: Population counts, households '\n",
            "                'counts, ethnicity by race counts, median household income',\n",
            " 'download_links': {'codebook_preview': 'https://data2.nhgis.org/extracts/867a4890-53fd-0138-73df-0242ac180004/21/nhgis0021_csv_PREVIEW.zip',\n",
            "                    'gis_data': 'https://data2.nhgis.org/extracts/867a4890-53fd-0138-73df-0242ac180004/21/nhgis0021_shape.zip',\n",
            "                    'table_data': 'https://data2.nhgis.org/extracts/867a4890-53fd-0138-73df-0242ac180004/21/nhgis0021_csv.zip'},\n",
            " 'geographic_extents': ['480'],\n",
            " 'number': 21,\n",
            " 'shapefiles': ['480_blck_grp_2000_tl2009', 'us_county_2009_tl2009'],\n",
            " 'status': 'completed'}\n"
          ],
          "name": "stdout"
        }
      ]
    },
    {
      "cell_type": "markdown",
      "metadata": {
        "colab_type": "text",
        "id": "VCnCmlcLKvz0"
      },
      "source": [
        "## 5.Download data files using request URLs\n",
        "\n",
        "Extract the download URL from the response, which is in the download_links attribute."
      ]
    },
    {
      "cell_type": "code",
      "metadata": {
        "colab_type": "code",
        "id": "jqjUDdiJtZUC",
        "colab": {
          "base_uri": "https://localhost:8080/",
          "height": 54
        },
        "outputId": "3712e390-dd81-46dd-f3ed-29dc820254fb"
      },
      "source": [
        "extract = r.json()\n",
        "my_extract_links = extract[\"download_links\"]\n",
        "\n",
        "print(my_extract_links)"
      ],
      "execution_count": null,
      "outputs": [
        {
          "output_type": "stream",
          "text": [
            "{'codebook_preview': 'https://data2.nhgis.org/extracts/867a4890-53fd-0138-73df-0242ac180004/21/nhgis0021_csv_PREVIEW.zip', 'table_data': 'https://data2.nhgis.org/extracts/867a4890-53fd-0138-73df-0242ac180004/21/nhgis0021_csv.zip', 'gis_data': 'https://data2.nhgis.org/extracts/867a4890-53fd-0138-73df-0242ac180004/21/nhgis0021_shape.zip'}\n"
          ],
          "name": "stdout"
        }
      ]
    },
    {
      "cell_type": "markdown",
      "metadata": {
        "colab_type": "text",
        "id": "8uSD_O0NDGiQ"
      },
      "source": [
        "Verify that the working directory is set correctly. This should have been completed earlier when mounting the notebook to Google Drive and setting the working directory."
      ]
    },
    {
      "cell_type": "code",
      "metadata": {
        "colab_type": "code",
        "id": "XSGoc_4SWP8R",
        "colab": {
          "base_uri": "https://localhost:8080/",
          "height": 35
        },
        "outputId": "f41976ed-ccf4-4659-f0b2-cccae1dadbdb"
      },
      "source": [
        "os.getcwd()"
      ],
      "execution_count": null,
      "outputs": [
        {
          "output_type": "execute_result",
          "data": {
            "application/vnd.google.colaboratory.intrinsic+json": {
              "type": "string"
            },
            "text/plain": [
              "'/content/drive/My Drive/Sandbox/NHGIS_2_getdata_2020-07-29'"
            ]
          },
          "metadata": {
            "tags": []
          },
          "execution_count": 19
        }
      ]
    },
    {
      "cell_type": "markdown",
      "metadata": {
        "colab_type": "text",
        "id": "RV8IrDlIDRWj"
      },
      "source": [
        "Download the zip files to the working directory."
      ]
    },
    {
      "cell_type": "code",
      "metadata": {
        "colab_type": "code",
        "id": "p8nig0Zftazi",
        "colab": {
          "base_uri": "https://localhost:8080/",
          "height": 34
        },
        "outputId": "4b75382a-9c7e-477b-c26b-ad28bcce90eb"
      },
      "source": [
        "## manually set the names for the zip files as found in the URL extract links\n",
        "\n",
        "r = requests.get(my_extract_links[\"codebook_preview\"], allow_redirects=True)\n",
        "open(\"nhgis0021_csv_PREVIEW.zip\", \"wb\").write(r.content)\n",
        "\n",
        "r = requests.get(my_extract_links[\"table_data\"], allow_redirects=True)\n",
        "open(\"nhgis0021_csv.zip\", \"wb\").write(r.content)\n",
        "\n",
        "r = requests.get(my_extract_links[\"gis_data\"], allow_redirects=True)\n",
        "open(\"nhgis0021_shape.zip\", \"wb\").write(r.content)\n",
        "\n",
        "print(\"Files downloaded from IPUMS NHGIS to the working directory\")"
      ],
      "execution_count": null,
      "outputs": [
        {
          "output_type": "stream",
          "text": [
            "Files downloaded from IPUMS NHGIS to the working directory\n"
          ],
          "name": "stdout"
        }
      ]
    },
    {
      "cell_type": "markdown",
      "metadata": {
        "colab_type": "text",
        "id": "ex7ZQycsLnfH"
      },
      "source": [
        "## 6.Unzip the datafiles\n",
        "Now that the files have been downloaded from IPUMS NHGIS to the working directory, they can be unzipped."
      ]
    },
    {
      "cell_type": "code",
      "metadata": {
        "colab_type": "code",
        "id": "DjLUMC9pXvCC",
        "colab": {
          "base_uri": "https://localhost:8080/",
          "height": 153
        },
        "outputId": "6c84b1eb-daed-42f1-c784-ad1b6b3e5024"
      },
      "source": [
        "## manually set the names for the zip files found in the working directory\n",
        "\n",
        "# Ignoring the PREVIEW.zip file which contains codebooks only. These codebooks are duplicated in the csv.zip file. \n",
        "# !unzip nhgis0021_csv_PREVIEW.zip\n",
        "\n",
        "!unzip nhgis0021_csv.zip\n",
        "!unzip nhgis0021_shape.zip"
      ],
      "execution_count": null,
      "outputs": [
        {
          "output_type": "stream",
          "text": [
            "Archive:  nhgis0021_csv.zip\n",
            "  inflating: nhgis0021_csv/nhgis0021_ds195_20095_2009_blck_grp.csv  \n",
            "  inflating: nhgis0021_csv/nhgis0021_ds195_20095_2009_county_codebook.txt  \n",
            "  inflating: nhgis0021_csv/nhgis0021_ds195_20095_2009_blck_grp_codebook.txt  \n",
            "  inflating: nhgis0021_csv/nhgis0021_ds195_20095_2009_county.csv  \n",
            "Archive:  nhgis0021_shape.zip\n",
            "  inflating: nhgis0021_shape/nhgis0021_shapefile_tl2009_us_county_2009.zip  \n",
            "  inflating: nhgis0021_shape/nhgis0021_shapefile_tl2009_480_blck_grp_2000.zip  \n"
          ],
          "name": "stdout"
        }
      ]
    },
    {
      "cell_type": "markdown",
      "metadata": {
        "colab_type": "text",
        "id": "KSvnjIQIMEbY"
      },
      "source": [
        "The shapefile extract `nhgis0020_shape` contains two child zip files: \n",
        "* `nhgis0020_shapefile_tl2009_480_blck_grp_2000.zip` for Texas block groups\n",
        "* `nhgis0020_shapefile_tl2009_us_county_2009.zip` for US counties \n",
        "\n",
        "Manually extract these shapefiles by identifying the *relative* zipfile path. \n",
        "\n",
        "Remember, since the working folder was set earlier, relative paths can be used. The working directory is a folder created at the same level as this notebook with the same name minus the .ipynb suffix."
      ]
    },
    {
      "cell_type": "code",
      "metadata": {
        "colab_type": "code",
        "id": "psk8ip_YaEIf",
        "colab": {
          "base_uri": "https://localhost:8080/",
          "height": 289
        },
        "outputId": "f914557f-0e4a-4317-f3eb-3e9b67b167ac"
      },
      "source": [
        "## manually set the name for the zipfiles and the destination folder\n",
        "\n",
        "!unzip nhgis0021_shape/nhgis0021_shapefile_tl2009_480_blck_grp_2000.zip -d nhgis0021_shape\n",
        "!unzip nhgis0021_shape/nhgis0021_shapefile_tl2009_us_county_2009.zip -d nhgis0021_shape"
      ],
      "execution_count": null,
      "outputs": [
        {
          "output_type": "stream",
          "text": [
            "Archive:  nhgis0021_shape/nhgis0021_shapefile_tl2009_480_blck_grp_2000.zip\n",
            "  inflating: nhgis0021_shape/TX_blck_grp09_2000.dbf  \n",
            "  inflating: nhgis0021_shape/TX_blck_grp09_2000.prj  \n",
            "  inflating: nhgis0021_shape/TX_blck_grp09_2000.sbn  \n",
            "  inflating: nhgis0021_shape/TX_blck_grp09_2000.sbx  \n",
            "  inflating: nhgis0021_shape/TX_blck_grp09_2000.shp  \n",
            "  inflating: nhgis0021_shape/TX_blck_grp09_2000.shp.xml  \n",
            "  inflating: nhgis0021_shape/TX_blck_grp09_2000.shx  \n",
            "Archive:  nhgis0021_shape/nhgis0021_shapefile_tl2009_us_county_2009.zip\n",
            "  inflating: nhgis0021_shape/US_county_2009.dbf  \n",
            "  inflating: nhgis0021_shape/US_county_2009.prj  \n",
            "  inflating: nhgis0021_shape/US_county_2009.sbn  \n",
            "  inflating: nhgis0021_shape/US_county_2009.sbx  \n",
            "  inflating: nhgis0021_shape/US_county_2009.shp  \n",
            "  inflating: nhgis0021_shape/US_county_2009.shp.xml  \n",
            "  inflating: nhgis0021_shape/US_county_2009.shx  \n"
          ],
          "name": "stdout"
        }
      ]
    },
    {
      "cell_type": "markdown",
      "metadata": {
        "colab_type": "text",
        "id": "wpqEj9z6F4GV"
      },
      "source": [
        "# Data extraction complete \n",
        "All data has now been extracted and is available in the working directory.\n",
        "\n",
        "The working directory should contain the following folders and files: \n",
        "\n",
        "```\n",
        "My Drive\\Sandbox\\NHGIS_2_getdata_2020-07-29\n",
        "My Drive\\Sandbox\\NHGIS_2_getdata_2020-07-29\\nhgis0021_csv\n",
        "My Drive\\Sandbox\\NHGIS_2_getdata_2020-07-29\\nhgis0021_csv\\nhgis0021_ds195_20095_2009_blck_grp.csv\n",
        "My Drive\\Sandbox\\NHGIS_2_getdata_2020-07-29\\nhgis0021_csv\\nhgis0021_ds195_20095_2009_blck_grp_codebook.txt\n",
        "My Drive\\Sandbox\\NHGIS_2_getdata_2020-07-29\\nhgis0021_csv\\nhgis0021_ds195_20095_2009_county.csv\n",
        "My Drive\\Sandbox\\NHGIS_2_getdata_2020-07-29\\nhgis0021_csv\\nhgis0021_ds195_20095_2009_county_codebook.txt\n",
        "My Drive\\Sandbox\\NHGIS_2_getdata_2020-07-29\\nhgis0021_shape\n",
        "My Drive\\Sandbox\\NHGIS_2_getdata_2020-07-29\\nhgis0021_shape\\nhgis0021_shapefile_tl2009_480_blck_grp_2000.zip\n",
        "My Drive\\Sandbox\\NHGIS_2_getdata_2020-07-29\\nhgis0021_shape\\nhgis0021_shapefile_tl2009_us_county_2009.zip\n",
        "My Drive\\Sandbox\\NHGIS_2_getdata_2020-07-29\\nhgis0021_shape\\TX_blck_grp09_2000.shp\n",
        "My Drive\\Sandbox\\NHGIS_2_getdata_2020-07-29\\nhgis0021_shape\\US_county_2009.shp\n",
        "My Drive\\Sandbox\\NHGIS_2_getdata_2020-07-29\\nhgis0021_csv.zip\n",
        "My Drive\\Sandbox\\NHGIS_2_getdata_2020-07-29\\nhgis0021_csv_PREVIEW.zip\n",
        "My Drive\\Sandbox\\NHGIS_2_getdata_2020-07-29\\nhgis0021_shape.zip\n",
        "```\n",
        "\n",
        "\n",
        "\n",
        "The following portions of this notebook show off some of the data. "
      ]
    },
    {
      "cell_type": "code",
      "metadata": {
        "colab_type": "code",
        "id": "QAXtPjhuCEvP",
        "colab": {
          "base_uri": "https://localhost:8080/",
          "height": 35
        },
        "outputId": "b7a06b49-69df-478c-9fbb-4e7fda2dd503"
      },
      "source": [
        "os.getcwd()"
      ],
      "execution_count": null,
      "outputs": [
        {
          "output_type": "execute_result",
          "data": {
            "application/vnd.google.colaboratory.intrinsic+json": {
              "type": "string"
            },
            "text/plain": [
              "'/content/drive/My Drive/Sandbox/NHGIS_2_getdata_2020-07-29'"
            ]
          },
          "metadata": {
            "tags": []
          },
          "execution_count": 26
        }
      ]
    },
    {
      "cell_type": "code",
      "metadata": {
        "colab_type": "code",
        "id": "De1wav1Qa-Si",
        "colab": {
          "base_uri": "https://localhost:8080/",
          "height": 306
        },
        "outputId": "a8e1744b-4880-4526-86c4-555680225543"
      },
      "source": [
        "## manually set shapefile\n",
        "\n",
        "tx_blck_grp09_2000_shp = 'nhgis0021_shape/TX_blck_grp09_2000.shp'\n",
        "texasbg = gpd.read_file(tx_blck_grp09_2000_shp)\n",
        "texasbg.plot()"
      ],
      "execution_count": null,
      "outputs": [
        {
          "output_type": "execute_result",
          "data": {
            "text/plain": [
              "<matplotlib.axes._subplots.AxesSubplot at 0x7f29bc0c6080>"
            ]
          },
          "metadata": {
            "tags": []
          },
          "execution_count": 27
        },
        {
          "output_type": "display_data",
          "data": {
            "image/png": "[encoded data removed]",
            "text/plain": [
              "<Figure size 432x288 with 1 Axes>"
            ]
          },
          "metadata": {
            "tags": [],
            "needs_background": "light"
          }
        }
      ]
    },
    {
      "cell_type": "code",
      "metadata": {
        "colab_type": "code",
        "id": "MPDyTSiOb0iF",
        "colab": {
          "base_uri": "https://localhost:8080/",
          "height": 479
        },
        "outputId": "106180c6-9c0b-4261-c9ff-d0d8d32c45dd"
      },
      "source": [
        "texasbg.head()"
      ],
      "execution_count": null,
      "outputs": [
        {
          "output_type": "execute_result",
          "data": {
            "text/html": [
              "<div>\n",
              "<style scoped>\n",
              "    .dataframe tbody tr th:only-of-type {\n",
              "        vertical-align: middle;\n",
              "    }\n",
              "\n",
              "    .dataframe tbody tr th {\n",
              "        vertical-align: top;\n",
              "    }\n",
              "\n",
              "    .dataframe thead th {\n",
              "        text-align: right;\n",
              "    }\n",
              "</style>\n",
              "<table border=\"1\" class=\"dataframe\">\n",
              "  <thead>\n",
              "    <tr style=\"text-align: right;\">\n",
              "      <th></th>\n",
              "      <th>STATEFP00</th>\n",
              "      <th>COUNTYFP00</th>\n",
              "      <th>TRACTCE00</th>\n",
              "      <th>BLKGRPCE00</th>\n",
              "      <th>BKGPIDFP00</th>\n",
              "      <th>NAMELSAD00</th>\n",
              "      <th>MTFCC00</th>\n",
              "      <th>FUNCSTAT00</th>\n",
              "      <th>ALAND00</th>\n",
              "      <th>AWATER00</th>\n",
              "      <th>INTPTLAT00</th>\n",
              "      <th>INTPTLON00</th>\n",
              "      <th>GISJOIN</th>\n",
              "      <th>SHAPE_AREA</th>\n",
              "      <th>SHAPE_LEN</th>\n",
              "      <th>geometry</th>\n",
              "    </tr>\n",
              "  </thead>\n",
              "  <tbody>\n",
              "    <tr>\n",
              "      <th>0</th>\n",
              "      <td>48</td>\n",
              "      <td>243</td>\n",
              "      <td>950100</td>\n",
              "      <td>3</td>\n",
              "      <td>482439501003</td>\n",
              "      <td>Block Group 3</td>\n",
              "      <td>G5030</td>\n",
              "      <td>S</td>\n",
              "      <td>47731289.0</td>\n",
              "      <td>0.0</td>\n",
              "      <td>+30.6011912</td>\n",
              "      <td>-103.8627828</td>\n",
              "      <td>G48024309501003</td>\n",
              "      <td>4.773128e+07</td>\n",
              "      <td>43473.980484</td>\n",
              "      <td>POLYGON ((-748124.252 -734670.419, -748085.580...</td>\n",
              "    </tr>\n",
              "    <tr>\n",
              "      <th>1</th>\n",
              "      <td>48</td>\n",
              "      <td>463</td>\n",
              "      <td>950300</td>\n",
              "      <td>3</td>\n",
              "      <td>484639503003</td>\n",
              "      <td>Block Group 3</td>\n",
              "      <td>G5030</td>\n",
              "      <td>S</td>\n",
              "      <td>1458434.0</td>\n",
              "      <td>0.0</td>\n",
              "      <td>+29.2202971</td>\n",
              "      <td>-099.7963029</td>\n",
              "      <td>G48046309503003</td>\n",
              "      <td>1.458435e+06</td>\n",
              "      <td>5152.042933</td>\n",
              "      <td>POLYGON ((-368887.083 -915895.621, -368805.349...</td>\n",
              "    </tr>\n",
              "    <tr>\n",
              "      <th>2</th>\n",
              "      <td>48</td>\n",
              "      <td>463</td>\n",
              "      <td>950300</td>\n",
              "      <td>4</td>\n",
              "      <td>484639503004</td>\n",
              "      <td>Block Group 4</td>\n",
              "      <td>G5030</td>\n",
              "      <td>S</td>\n",
              "      <td>565573.0</td>\n",
              "      <td>0.0</td>\n",
              "      <td>+29.2112554</td>\n",
              "      <td>-099.7913176</td>\n",
              "      <td>G48046309503004</td>\n",
              "      <td>5.655734e+05</td>\n",
              "      <td>3016.113379</td>\n",
              "      <td>POLYGON ((-368313.944 -917706.508, -368392.683...</td>\n",
              "    </tr>\n",
              "    <tr>\n",
              "      <th>3</th>\n",
              "      <td>48</td>\n",
              "      <td>463</td>\n",
              "      <td>950200</td>\n",
              "      <td>1</td>\n",
              "      <td>484639502001</td>\n",
              "      <td>Block Group 1</td>\n",
              "      <td>G5030</td>\n",
              "      <td>S</td>\n",
              "      <td>403578750.0</td>\n",
              "      <td>3662684.0</td>\n",
              "      <td>+29.3437230</td>\n",
              "      <td>-099.6665918</td>\n",
              "      <td>G48046309502001</td>\n",
              "      <td>4.072414e+08</td>\n",
              "      <td>105873.882836</td>\n",
              "      <td>POLYGON ((-360746.733 -885827.727, -360705.347...</td>\n",
              "    </tr>\n",
              "    <tr>\n",
              "      <th>4</th>\n",
              "      <td>48</td>\n",
              "      <td>019</td>\n",
              "      <td>980200</td>\n",
              "      <td>2</td>\n",
              "      <td>480199802002</td>\n",
              "      <td>Block Group 2</td>\n",
              "      <td>G5030</td>\n",
              "      <td>S</td>\n",
              "      <td>605656901.0</td>\n",
              "      <td>1474566.0</td>\n",
              "      <td>+29.7300214</td>\n",
              "      <td>-099.3762748</td>\n",
              "      <td>G48001909802002</td>\n",
              "      <td>6.071314e+08</td>\n",
              "      <td>119114.354761</td>\n",
              "      <td>POLYGON ((-316077.895 -854641.582, -316101.541...</td>\n",
              "    </tr>\n",
              "  </tbody>\n",
              "</table>\n",
              "</div>"
            ],
            "text/plain": [
              "  STATEFP00  ...                                           geometry\n",
              "0        48  ...  POLYGON ((-748124.252 -734670.419, -748085.580...\n",
              "1        48  ...  POLYGON ((-368887.083 -915895.621, -368805.349...\n",
              "2        48  ...  POLYGON ((-368313.944 -917706.508, -368392.683...\n",
              "3        48  ...  POLYGON ((-360746.733 -885827.727, -360705.347...\n",
              "4        48  ...  POLYGON ((-316077.895 -854641.582, -316101.541...\n",
              "\n",
              "[5 rows x 16 columns]"
            ]
          },
          "metadata": {
            "tags": []
          },
          "execution_count": 28
        }
      ]
    },
    {
      "cell_type": "code",
      "metadata": {
        "colab_type": "code",
        "id": "A0r2iz0qb9hF",
        "colab": {
          "base_uri": "https://localhost:8080/",
          "height": 297
        },
        "outputId": "18a2e54e-d074-4bed-accc-82cacdccc9de"
      },
      "source": [
        "texasbg.describe()"
      ],
      "execution_count": null,
      "outputs": [
        {
          "output_type": "execute_result",
          "data": {
            "text/html": [
              "<div>\n",
              "<style scoped>\n",
              "    .dataframe tbody tr th:only-of-type {\n",
              "        vertical-align: middle;\n",
              "    }\n",
              "\n",
              "    .dataframe tbody tr th {\n",
              "        vertical-align: top;\n",
              "    }\n",
              "\n",
              "    .dataframe thead th {\n",
              "        text-align: right;\n",
              "    }\n",
              "</style>\n",
              "<table border=\"1\" class=\"dataframe\">\n",
              "  <thead>\n",
              "    <tr style=\"text-align: right;\">\n",
              "      <th></th>\n",
              "      <th>ALAND00</th>\n",
              "      <th>AWATER00</th>\n",
              "      <th>SHAPE_AREA</th>\n",
              "      <th>SHAPE_LEN</th>\n",
              "    </tr>\n",
              "  </thead>\n",
              "  <tbody>\n",
              "    <tr>\n",
              "      <th>count</th>\n",
              "      <td>1.446200e+04</td>\n",
              "      <td>1.446200e+04</td>\n",
              "      <td>1.446200e+04</td>\n",
              "      <td>1.446200e+04</td>\n",
              "    </tr>\n",
              "    <tr>\n",
              "      <th>mean</th>\n",
              "      <td>4.678349e+07</td>\n",
              "      <td>1.318660e+06</td>\n",
              "      <td>4.740868e+07</td>\n",
              "      <td>1.806505e+04</td>\n",
              "    </tr>\n",
              "    <tr>\n",
              "      <th>std</th>\n",
              "      <td>2.647472e+08</td>\n",
              "      <td>2.074341e+07</td>\n",
              "      <td>2.656364e+08</td>\n",
              "      <td>3.900664e+04</td>\n",
              "    </tr>\n",
              "    <tr>\n",
              "      <th>min</th>\n",
              "      <td>4.530100e+04</td>\n",
              "      <td>0.000000e+00</td>\n",
              "      <td>4.530170e+04</td>\n",
              "      <td>8.887285e+02</td>\n",
              "    </tr>\n",
              "    <tr>\n",
              "      <th>25%</th>\n",
              "      <td>5.780260e+05</td>\n",
              "      <td>0.000000e+00</td>\n",
              "      <td>5.810788e+05</td>\n",
              "      <td>3.476861e+03</td>\n",
              "    </tr>\n",
              "    <tr>\n",
              "      <th>50%</th>\n",
              "      <td>1.188162e+06</td>\n",
              "      <td>0.000000e+00</td>\n",
              "      <td>1.200496e+06</td>\n",
              "      <td>5.328836e+03</td>\n",
              "    </tr>\n",
              "    <tr>\n",
              "      <th>75%</th>\n",
              "      <td>6.461754e+06</td>\n",
              "      <td>3.713800e+04</td>\n",
              "      <td>6.683460e+06</td>\n",
              "      <td>1.334280e+04</td>\n",
              "    </tr>\n",
              "    <tr>\n",
              "      <th>max</th>\n",
              "      <td>9.519795e+09</td>\n",
              "      <td>1.262250e+09</td>\n",
              "      <td>9.520285e+09</td>\n",
              "      <td>1.649714e+06</td>\n",
              "    </tr>\n",
              "  </tbody>\n",
              "</table>\n",
              "</div>"
            ],
            "text/plain": [
              "            ALAND00      AWATER00    SHAPE_AREA     SHAPE_LEN\n",
              "count  1.446200e+04  1.446200e+04  1.446200e+04  1.446200e+04\n",
              "mean   4.678349e+07  1.318660e+06  4.740868e+07  1.806505e+04\n",
              "std    2.647472e+08  2.074341e+07  2.656364e+08  3.900664e+04\n",
              "min    4.530100e+04  0.000000e+00  4.530170e+04  8.887285e+02\n",
              "25%    5.780260e+05  0.000000e+00  5.810788e+05  3.476861e+03\n",
              "50%    1.188162e+06  0.000000e+00  1.200496e+06  5.328836e+03\n",
              "75%    6.461754e+06  3.713800e+04  6.683460e+06  1.334280e+04\n",
              "max    9.519795e+09  1.262250e+09  9.520285e+09  1.649714e+06"
            ]
          },
          "metadata": {
            "tags": []
          },
          "execution_count": 41
        }
      ]
    }
  ]
}